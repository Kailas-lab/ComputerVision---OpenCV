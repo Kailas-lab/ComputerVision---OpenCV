{
 "cells": [
  {
   "cell_type": "code",
   "execution_count": 2,
   "metadata": {},
   "outputs": [],
   "source": [
    "import numpy as np\n",
    "import cv2 as cv"
   ]
  },
  {
   "cell_type": "code",
   "execution_count": 3,
   "metadata": {},
   "outputs": [],
   "source": [
    "haar_cascade=cv.CascadeClassifier('haar_face.xml')"
   ]
  },
  {
   "cell_type": "code",
   "execution_count": 4,
   "metadata": {},
   "outputs": [],
   "source": [
    "people=['ben_afflek','elton_John', 'jerry_seinfeld','madonna','mindy_kaling']"
   ]
  },
  {
   "cell_type": "code",
   "execution_count": 7,
   "metadata": {},
   "outputs": [],
   "source": [
    "# Load the saved features (face ROIs) with allow_pickle enabled\n",
    "features = np.load('features.npy', allow_pickle=True)\n",
    "\n",
    "# Load the saved labels with allow_pickle enabled (if needed)\n",
    "labels = np.load('labels.npy', allow_pickle=True)\n"
   ]
  },
  {
   "cell_type": "code",
   "execution_count": 8,
   "metadata": {},
   "outputs": [],
   "source": [
    "face_recognizer=cv.face.LBPHFaceRecognizer_create()\n",
    "face_recognizer.read('face_trained.yml')"
   ]
  },
  {
   "cell_type": "code",
   "execution_count": 15,
   "metadata": {},
   "outputs": [],
   "source": [
    "import cv2 as cv\n",
    "\n",
    "# Load the image\n",
    "img = cv.imread(r\"D:\\kailas\\open cv\\ComputerVision---OpenCV\\faces\\val\\madonna\\httpassetsrollingstonecomassetsimagesalbumreviewaffaceabdcccaeedjpg.jpg\")\n",
    "\n",
    "\n",
    "    # Convert to grayscale\n",
    "gray = cv.cvtColor(img, cv.COLOR_BGR2GRAY)\n",
    "cv.imshow('person', gray)\n",
    "\n",
    "cv.waitKey(0)\n",
    "cv.destroyAllWindows()\n"
   ]
  },
  {
   "cell_type": "markdown",
   "metadata": {},
   "source": [
    "**Detect the face in the image**"
   ]
  },
  {
   "cell_type": "code",
   "execution_count": 16,
   "metadata": {},
   "outputs": [
    {
     "name": "stdout",
     "output_type": "stream",
     "text": [
      "label = elton_John with a confidence of 90.89414434305048\n"
     ]
    }
   ],
   "source": [
    "faces_rect=haar_cascade.detectMultiScale(gray, 1.1 , 4)\n",
    "\n",
    "for (x,y,w,h) in faces_rect:\n",
    "    faces_roi=gray[y:y+h, x:x+h]\n",
    "\n",
    "    label,confidence = face_recognizer.predict(faces_roi)\n",
    "    print(f'label = {people[label]} with a confidence of {confidence}')\n",
    "\n",
    "    cv.putText(img, str(people[label]), (20,20), cv.FONT_HERSHEY_COMPLEX,1.0, (0,255,0), thickness=2)\n",
    "\n",
    "    cv.rectangle(img,(x,y),(x+w,y+h), (0,255,0), thickness=2)\n",
    "\n",
    "cv.imshow('Dectected face', img)\n",
    "\n",
    "cv.waitKey(0)\n",
    "cv.destroyAllWindows()\n",
    "\n"
   ]
  }
 ],
 "metadata": {
  "kernelspec": {
   "display_name": "Python 3",
   "language": "python",
   "name": "python3"
  },
  "language_info": {
   "codemirror_mode": {
    "name": "ipython",
    "version": 3
   },
   "file_extension": ".py",
   "mimetype": "text/x-python",
   "name": "python",
   "nbconvert_exporter": "python",
   "pygments_lexer": "ipython3",
   "version": "3.10.0"
  }
 },
 "nbformat": 4,
 "nbformat_minor": 2
}
