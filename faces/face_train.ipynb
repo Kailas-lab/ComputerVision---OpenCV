{
 "cells": [
  {
   "cell_type": "code",
   "execution_count": 1,
   "metadata": {},
   "outputs": [],
   "source": [
    "import os\n",
    "import cv2 as cv\n",
    "import numpy as np"
   ]
  },
  {
   "cell_type": "code",
   "execution_count": 14,
   "metadata": {},
   "outputs": [],
   "source": [
    "people=['ben_afflek','elton_John', 'jerry_seinfeld','madonna','mindy_kaling']"
   ]
  },
  {
   "cell_type": "markdown",
   "metadata": {},
   "source": [
    "**another way to store the names**\n",
    "\n",
    "p=[]\n",
    "for i in os.listdir(r\"D:\\kailas\\open cv\\ComputerVision---OpenCV\\faces\\train\"):\n",
    "    p.append(i)\n",
    "print(p)"
   ]
  },
  {
   "cell_type": "markdown",
   "metadata": {},
   "source": [
    "set the main folder as dir"
   ]
  },
  {
   "cell_type": "code",
   "execution_count": 3,
   "metadata": {},
   "outputs": [],
   "source": [
    "DIR = r'D:\\kailas\\open cv\\ComputerVision---OpenCV\\faces\\train'"
   ]
  },
  {
   "cell_type": "code",
   "execution_count": 4,
   "metadata": {},
   "outputs": [],
   "source": [
    "# Load the Haar Cascade for face detection\n",
    "haar_cascade=cv.CascadeClassifier('haar_face.xml')"
   ]
  },
  {
   "cell_type": "markdown",
   "metadata": {},
   "source": [
    "set features for faces find\n",
    "set labels for find which face to whom "
   ]
  },
  {
   "cell_type": "code",
   "execution_count": 5,
   "metadata": {},
   "outputs": [],
   "source": [
    "features=[]\n",
    "labels=[]"
   ]
  },
  {
   "cell_type": "markdown",
   "metadata": {},
   "source": [
    "**people:**\n",
    "\n",
    "A list containing names or identifiers for individuals. Each name corresponds to a subdirectory containing that person's images.\n",
    "\n",
    "**os.path.join:**\n",
    "\n",
    "Constructs file paths dynamically and ensures compatibility with different operating systems.\n",
    "Example: Combines DIR (base directory) and person (subdirectory name) to form a complete path.\n",
    "\n",
    "**people.index(person):**\n",
    "\n",
    "Assigns a numeric label to each person based on their index in the people list.\n",
    "This label will typically be used to associate images with their corresponding class during training.\n",
    "\n",
    "**os.listdir(path):**\n",
    "\n",
    "Lists all files in the directory specified by path.\n",
    "Assumes that each directory contains only valid image files.\n"
   ]
  },
  {
   "cell_type": "code",
   "execution_count": 15,
   "metadata": {},
   "outputs": [
    {
     "name": "stdout",
     "output_type": "stream",
     "text": [
      "length of the features 140\n",
      "length of the labels 140\n"
     ]
    }
   ],
   "source": [
    "# Function to create training data\n",
    "def create_train():  \n",
    "    # Loop through each person in the list 'people'\n",
    "    for person in people:  \n",
    "        path = os.path.join(DIR, person)  # Construct the path to the person's folder\n",
    "        label = people.index(person)  # Assign a label based on the index of the person in the list\n",
    "\n",
    "        for img in os.listdir(path):  # Loop through each image in the person's folder\n",
    "            img_path = os.path.join(path, img)  # Construct the full path to the image\n",
    "\n",
    "            # Read the image from the constructed path\n",
    "            img_array = cv.imread(img_path)\n",
    "\n",
    "            # Convert the image to grayscale for easier processing\n",
    "            gray = cv.cvtColor(img_array, cv.COLOR_BGR2GRAY)\n",
    "\n",
    "            faces_rect = haar_cascade.detectMultiScale(gray, scaleFactor=1.1, minNeighbors=4)  # Detect faces in the grayscale image\n",
    "\n",
    "            for (x, y, w, h) in faces_rect:  # Loop through all detected face rectangles\n",
    "              faces_roi = gray[y:y+h, x:x+w]  # Extract the Region of Interest (ROI) for each face\n",
    "              features.append(faces_roi)  # Append the face ROI to the features list\n",
    "              labels.append(label)  # Append the corresponding label to the labels list\n",
    "\n",
    "\n",
    "create_train()\n",
    "\n",
    "print(\"length of the features\",len(features))\n",
    "print(\"length of the labels\",len(labels))\n"
   ]
  },
  {
   "cell_type": "markdown",
   "metadata": {},
   "source": [
    "100 faces and 100 corresponding labels"
   ]
  },
  {
   "cell_type": "code",
   "execution_count": 17,
   "metadata": {},
   "outputs": [],
   "source": [
    "# Convert lists to NumPy arrays (for use with ML frameworks)\n",
    "features = np.array(features, dtype=\"object\")\n",
    "labels = np.array(labels)"
   ]
  },
  {
   "cell_type": "code",
   "execution_count": 18,
   "metadata": {},
   "outputs": [],
   "source": [
    "# Initialize the LBPH Face Recognizer\n",
    "face_recognizer = cv.face.LBPHFaceRecognizer_create()\n"
   ]
  },
  {
   "cell_type": "markdown",
   "metadata": {},
   "source": [
    "**Train the recognizer on the features list and the labels list**"
   ]
  },
  {
   "cell_type": "code",
   "execution_count": 19,
   "metadata": {},
   "outputs": [],
   "source": [
    "face_recognizer.train(features,labels)"
   ]
  },
  {
   "cell_type": "code",
   "execution_count": 21,
   "metadata": {},
   "outputs": [],
   "source": [
    "# Save the trained LBPH face recognizer model to a file\n",
    "face_recognizer.save('face_trained.yml')\n",
    "# Comment: This saves the trained model (parameters and weights) in a `.yml` file. \n",
    "# The model can be loaded later using `face_recognizer.read('face_trained.yml')` \n",
    "# to make predictions without retraining.\n",
    "\n",
    "# Save the features (face regions of interest as NumPy arrays) to a `.npy` file\n",
    "np.save('features.npy', features)\n",
    "# Comment: This stores the raw training data (cropped grayscale face images) as a NumPy array.\n",
    "# Saving this ensures the training data can be reused or analyzed later without \n",
    "# recomputing or recollecting it.\n",
    "\n",
    "# Save the labels (corresponding indices of people for each feature) to a `.npy` file\n",
    "np.save('labels.npy', labels)\n",
    "# Comment: This stores the labels corresponding to each feature (face ROI) in the training data.\n",
    "# Labels are typically the indices of `people` in the dataset (e.g., [0, 1, 2...]).\n",
    "# This is essential for retraining or debugging purposes.\n"
   ]
  }
 ],
 "metadata": {
  "kernelspec": {
   "display_name": "Python 3",
   "language": "python",
   "name": "python3"
  },
  "language_info": {
   "codemirror_mode": {
    "name": "ipython",
    "version": 3
   },
   "file_extension": ".py",
   "mimetype": "text/x-python",
   "name": "python",
   "nbconvert_exporter": "python",
   "pygments_lexer": "ipython3",
   "version": "3.10.0"
  }
 },
 "nbformat": 4,
 "nbformat_minor": 2
}
