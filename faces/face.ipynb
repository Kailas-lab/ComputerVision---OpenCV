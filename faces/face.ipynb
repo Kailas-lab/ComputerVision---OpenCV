{
 "cells": [
  {
   "cell_type": "code",
   "execution_count": null,
   "metadata": {},
   "outputs": [
    {
     "name": "stdout",
     "output_type": "stream",
     "text": [
      "no. of faces found 1\n"
     ]
    },
    {
     "data": {
      "text/plain": [
       "-1"
      ]
     },
     "execution_count": 9,
     "metadata": {},
     "output_type": "execute_result"
    }
   ],
   "source": [
    "import cv2 as cv\n",
    "\n",
    "img=cv.imread('D:\\kailas\\open cv\\ComputerVision---OpenCV\\images\\lady.jpg')\n",
    "cv.imshow(\"person\",img)\n",
    "\n",
    "gray=cv.cvtColor(img, cv.COLOR_BGR2GRAY)\n",
    "cv.imshow(\"gray\",gray)\n",
    "\n",
    "\n",
    "# Load the Haar Cascade for face detection\n",
    "haar_cascade=cv.CascadeClassifier('haar_face.xml')\n",
    "\n",
    "# Detect faces in the grayscale image\n",
    "face_rect = haar_cascade.detectMultiScale(\n",
    "    gray,  # Input image\n",
    "    scaleFactor=1.1,  # How much the image size is reduced at each image scale\n",
    "    minNeighbors=3  # Minimum number of rectangles that intersect to consider a detection\n",
    ")\n",
    "\n",
    "print(\"no. of faces found\",len(face_rect))\n",
    "\n",
    "cv.waitKey(0)"
   ]
  },
  {
   "cell_type": "markdown",
   "metadata": {},
   "source": [
    "**Detect the faces**\n",
    "\n",
    "Iterate through each face's bounding box\n",
    "1. Draw a rectangle around each detected face\n",
    "2. (x, y) is the top-left corner of the rectangle, (x+w, y+h) is the bottom-right corner of the rectangle\n",
    "3. (0, 255, 0) specifies the rectangle color in BGR (green in this case)\n",
    "4. thickness=2 specifies the thickness of the rectangle border"
   ]
  },
  {
   "cell_type": "code",
   "execution_count": 10,
   "metadata": {},
   "outputs": [],
   "source": [
    "for (x,y,w,h) in face_rect:\n",
    "    cv.rectangle(img, (x,y), (x+w,y+h), (0,255,0), thickness=2)\n",
    "\n",
    "cv.imshow(\"detected faces\",img)"
   ]
  }
 ],
 "metadata": {
  "kernelspec": {
   "display_name": "Python 3",
   "language": "python",
   "name": "python3"
  },
  "language_info": {
   "codemirror_mode": {
    "name": "ipython",
    "version": 3
   },
   "file_extension": ".py",
   "mimetype": "text/x-python",
   "name": "python",
   "nbconvert_exporter": "python",
   "pygments_lexer": "ipython3",
   "version": "3.10.0"
  }
 },
 "nbformat": 4,
 "nbformat_minor": 2
}
