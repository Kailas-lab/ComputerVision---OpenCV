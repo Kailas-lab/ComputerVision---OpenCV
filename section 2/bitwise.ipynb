{
 "cells": [
  {
   "cell_type": "code",
   "execution_count": 1,
   "metadata": {},
   "outputs": [
    {
     "data": {
      "text/plain": [
       "-1"
      ]
     },
     "execution_count": 1,
     "metadata": {},
     "output_type": "execute_result"
    }
   ],
   "source": [
    "import cv2 as cv\n",
    "import numpy as np\n",
    "\n",
    "blank=np.zeros((400,400),dtype='uint8')\n",
    "\n",
    "rect=cv.rectangle(blank.copy(),(30,30),(370,370), 255, -1)\n",
    "circle=cv.circle(blank.copy(),(200,200),200,255,-1)\n",
    "\n",
    "cv.imshow(\"rect\",rect)\n",
    "cv.imshow(\"circle\",circle)\n",
    "cv.waitKey(0)"
   ]
  },
  {
   "cell_type": "markdown",
   "metadata": {},
   "source": [
    "**Bitwise and,or,xor and not**"
   ]
  },
  {
   "cell_type": "code",
   "execution_count": 4,
   "metadata": {},
   "outputs": [
    {
     "data": {
      "text/plain": [
       "-1"
      ]
     },
     "execution_count": 4,
     "metadata": {},
     "output_type": "execute_result"
    }
   ],
   "source": [
    "b_and = cv.bitwise_and(rect,circle)\n",
    "b_or = cv.bitwise_or(rect,circle)\n",
    "b_xor = cv.bitwise_xor(rect,circle)\n",
    "b_not = cv.bitwise_not(circle)\n",
    "\n",
    "cv.imshow(\"and\",b_and)\n",
    "cv.imshow(\"or\",b_or)\n",
    "cv.imshow(\"xor\",b_xor)\n",
    "cv.imshow(\"not\",b_not)\n",
    "cv.waitKey(0)"
   ]
  }
 ],
 "metadata": {
  "kernelspec": {
   "display_name": "Python 3",
   "language": "python",
   "name": "python3"
  },
  "language_info": {
   "codemirror_mode": {
    "name": "ipython",
    "version": 3
   },
   "file_extension": ".py",
   "mimetype": "text/x-python",
   "name": "python",
   "nbconvert_exporter": "python",
   "pygments_lexer": "ipython3",
   "version": "3.12.5"
  }
 },
 "nbformat": 4,
 "nbformat_minor": 2
}
