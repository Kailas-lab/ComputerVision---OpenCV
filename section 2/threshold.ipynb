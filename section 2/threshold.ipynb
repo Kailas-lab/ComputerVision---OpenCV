{
 "cells": [
  {
   "cell_type": "markdown",
   "metadata": {},
   "source": [
    "\n",
    "we can convert to binary image based on threshold value\n",
    "0-black\n",
    "1-white\n",
    "if the pixel value is lessthan the threshold value it puts black\n",
    "if the pixel value is greaterthan the threshold value it puts white\n"
   ]
  },
  {
   "cell_type": "code",
   "execution_count": 4,
   "metadata": {},
   "outputs": [
    {
     "data": {
      "text/plain": [
       "-1"
      ]
     },
     "execution_count": 4,
     "metadata": {},
     "output_type": "execute_result"
    }
   ],
   "source": [
    "import cv2 as cv\n",
    "\n",
    "\n",
    "img=cv.imread(r\"D:\\kailas\\open cv\\ComputerVision---OpenCV\\images\\cats.jpg\")\n",
    "cv.imshow(\"cats\",img)\n",
    "\n",
    "gray=cv.cvtColor(img, cv.COLOR_BGR2GRAY)\n",
    "cv.imshow('gray',gray)\n",
    "\n",
    "#Simple thresholding\n",
    "\n",
    "threshold, thresh = cv.threshold(gray, 100, 255, cv.THRESH_BINARY)\n",
    "cv.imshow(\"threshold image\", thresh)\n",
    "\n",
    "#inverse thresholding\n",
    "\n",
    "threshold, thresh_inv = cv.threshold(gray, 100, 255, cv.THRESH_BINARY_INV)\n",
    "cv.imshow(\"threshold inverse image\", thresh_inv)\n",
    "\n",
    "# Apply Adaptive Mean Thresholding\n",
    "\n",
    "adaptive_thresh_mean = cv.adaptiveThreshold(\n",
    "    gray, 255, cv.ADAPTIVE_THRESH_MEAN_C, cv.THRESH_BINARY, 11, 2\n",
    ")\n",
    "cv.imshow(\"Adaptive Mean Thresholding\", adaptive_thresh_mean)\n",
    "\n",
    "cv.waitKey(0)"
   ]
  },
  {
   "cell_type": "markdown",
   "metadata": {},
   "source": [
    "threshold=255\n",
    "thresh=The resulting binary image after applying the threshold.\n",
    "\n",
    "1. Pixels with intensity > 150 are set to 255 (white).\n",
    "2. Pixels with intensity ≤ 150 are set to 0 (black)."
   ]
  },
  {
   "cell_type": "markdown",
   "metadata": {},
   "source": [
    "**cv.adaptiveThreshold:**\n",
    "\n",
    "Dynamically applies a threshold value to small regions of the image based on local properties.\n",
    "\n",
    "ADAPTIVE_THRESH_MEAN_C: Threshold value is the mean of the neighborhood area.\n",
    "ADAPTIVE_THRESH_GAUSSIAN_C: Threshold value is a weighted sum (Gaussian-weighted) of the neighborhood values.\n",
    "cv.THRESH_BINARY: Binary thresholding type.\n",
    "11: Block size (size of the neighborhood).\n",
    "2: Constant subtracted from the computed mean or Gaussian-weighted sum.\n"
   ]
  }
 ],
 "metadata": {
  "kernelspec": {
   "display_name": "Python 3",
   "language": "python",
   "name": "python3"
  },
  "language_info": {
   "codemirror_mode": {
    "name": "ipython",
    "version": 3
   },
   "file_extension": ".py",
   "mimetype": "text/x-python",
   "name": "python",
   "nbconvert_exporter": "python",
   "pygments_lexer": "ipython3",
   "version": "3.10.0"
  }
 },
 "nbformat": 4,
 "nbformat_minor": 2
}
