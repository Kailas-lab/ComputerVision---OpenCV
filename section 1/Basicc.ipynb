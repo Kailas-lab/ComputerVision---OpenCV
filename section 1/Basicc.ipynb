{
 "cells": [
  {
   "cell_type": "markdown",
   "metadata": {},
   "source": [
    "# pip install opencv-contrib-python\n",
    "(to use open cv)\n",
    "\n",
    "# pip install caer\n",
    "(for better performance in open cv)"
   ]
  },
  {
   "cell_type": "code",
   "execution_count": 2,
   "metadata": {},
   "outputs": [
    {
     "name": "stderr",
     "output_type": "stream",
     "text": [
      "<>:6: SyntaxWarning: invalid escape sequence '\\k'\n",
      "<>:6: SyntaxWarning: invalid escape sequence '\\k'\n",
      "C:\\Users\\ADMIN\\AppData\\Local\\Temp\\ipykernel_2392\\2383556172.py:6: SyntaxWarning: invalid escape sequence '\\k'\n",
      "  img = cv.imread('D:\\kailas\\open cv\\data\\couleur.jpg')\n"
     ]
    },
    {
     "data": {
      "text/plain": [
       "-1"
      ]
     },
     "execution_count": 2,
     "metadata": {},
     "output_type": "execute_result"
    }
   ],
   "source": [
    "#if the img size is too long opencv deoesnt resize default\n",
    "\n",
    "import cv2 as cv\n",
    "\n",
    "# Read in an image\n",
    "img = cv.imread('D:\\kailas\\open cv\\data\\couleur.jpg')\n",
    "cv.imshow('couleur', img)\n",
    "cv.waitKey(0)\n",
    "\n"
   ]
  },
  {
   "cell_type": "markdown",
   "metadata": {},
   "source": [
    "Read the vedio files as per frames"
   ]
  },
  {
   "cell_type": "code",
   "execution_count": 12,
   "metadata": {},
   "outputs": [
    {
     "name": "stdout",
     "output_type": "stream",
     "text": [
      "Video playback stopped by user.\n"
     ]
    }
   ],
   "source": [
    "a = cv.VideoCapture(r'D:\\kailas\\open cv\\vedios\\dog.mp4')\n",
    "\n",
    "while True:\n",
    "    # Read a frame from the video\n",
    "    isTrue, frame = a.read()\n",
    "    \n",
    "    # Break the loop if there are no more frames to read\n",
    "    if not isTrue:\n",
    "        print(\"Finished playing the video or failed to read the frame.\")\n",
    "        break\n",
    "    \n",
    "    # Display the frame in a window\n",
    "    cv.imshow('Video', frame)\n",
    "    \n",
    "    # Break the loop if 'q' is pressed\n",
    "    if cv.waitKey(20) & 0xFF == ord('q'):\n",
    "        print(\"Video playback stopped by user.\")\n",
    "        break\n",
    "\n",
    "# Release the video capture object and close all windows\n",
    "a.release()\n",
    "cv.destroyAllWindows()\n"
   ]
  },
  {
   "cell_type": "markdown",
   "metadata": {},
   "source": [
    "**Resize and rescale the image and videos** "
   ]
  },
  {
   "cell_type": "code",
   "execution_count": 15,
   "metadata": {},
   "outputs": [],
   "source": [
    "import cv2 as cv\n",
    "\n",
    "# Load the image\n",
    "image = cv.imread(r'D:\\kailas\\open cv\\data\\couleur.jpg')\n",
    "\n",
    "# Resize the image to specific dimensions (width, height)\n",
    "resized_image = cv.resize(image, (400, 300))  # Resize to 400x300 pixels\n",
    "\n",
    "# Alternatively, resize with a scale factor (e.g., 50% smaller)\n",
    "scale = 0.5\n",
    "resized_image = cv.resize(image, None, fx=scale, fy=scale, interpolation=cv.INTER_AREA)\n",
    "\n",
    "# Display the resized image\n",
    "cv.imshow('Resized Image', resized_image)\n",
    "\n",
    "cv.waitKey(0)\n",
    "cv.destroyAllWindows()\n"
   ]
  },
  {
   "cell_type": "code",
   "execution_count": 16,
   "metadata": {},
   "outputs": [],
   "source": [
    "import cv2 as cv\n",
    "\n",
    "# Load the video\n",
    "video = cv.VideoCapture(r'D:\\kailas\\open cv\\vedios\\dog.mp4')\n",
    "\n",
    "while True:\n",
    "    # Read a frame from the video\n",
    "    isTrue, frame = video.read()\n",
    "    \n",
    "    # Break the loop if no frame is read (end of video)\n",
    "    if not isTrue:\n",
    "        break\n",
    "    \n",
    "    # Resize the frame to specific dimensions (width, height)\n",
    "    resized_frame = cv.resize(frame, (640, 480))  # Resize to 640x480 pixels\n",
    "    \n",
    "    # Alternatively, resize with a scale factor\n",
    "    scale = 0.5\n",
    "    resized_frame = cv.resize(frame, None, fx=scale, fy=scale, interpolation=cv.INTER_LINEAR)\n",
    "\n",
    "    # Display the resized frame\n",
    "    cv.imshow('Resized Video Frame', resized_frame)\n",
    "\n",
    "    # Break the loop if 'q' is pressed\n",
    "    if cv.waitKey(20) & 0xFF == ord('q'):\n",
    "        break\n",
    "\n",
    "# Release video and close windows\n",
    "video.release()\n",
    "cv.destroyAllWindows()\n"
   ]
  },
  {
   "cell_type": "markdown",
   "metadata": {},
   "source": []
  },
  {
   "cell_type": "markdown",
   "metadata": {},
   "source": []
  },
  {
   "cell_type": "code",
   "execution_count": null,
   "metadata": {},
   "outputs": [],
   "source": [
    "# Converting to grayscale\n",
    "gray = cv.cvtColor(img, cv.COLOR_BGR2GRAY)\n",
    "cv.imshow('Gray', gray)\n",
    "\n",
    "# Blur \n",
    "blur = cv.GaussianBlur(img, (7,7), cv.BORDER_DEFAULT)\n",
    "cv.imshow('Blur', blur)\n",
    "\n",
    "# Edge Cascade\n",
    "canny = cv.Canny(blur, 125, 175)\n",
    "cv.imshow('Canny Edges', canny)\n",
    "\n",
    "# Dilating the image\n",
    "dilated = cv.dilate(canny, (7,7), iterations=3)\n",
    "cv.imshow('Dilated', dilated)\n",
    "\n",
    "# Eroding\n",
    "eroded = cv.erode(dilated, (7,7), iterations=3)\n",
    "cv.imshow('Eroded', eroded)\n",
    "\n",
    "# Resize\n",
    "resized = cv.resize(img, (500,500), interpolation=cv.INTER_CUBIC)\n",
    "cv.imshow('Resized', resized)\n",
    "\n",
    "# Cropping\n",
    "cropped = img[50:200, 200:400]\n",
    "cv.imshow('Cropped', cropped)"
   ]
  }
 ],
 "metadata": {
  "kernelspec": {
   "display_name": "Python 3",
   "language": "python",
   "name": "python3"
  },
  "language_info": {
   "codemirror_mode": {
    "name": "ipython",
    "version": 3
   },
   "file_extension": ".py",
   "mimetype": "text/x-python",
   "name": "python",
   "nbconvert_exporter": "python",
   "pygments_lexer": "ipython3",
   "version": "3.12.5"
  }
 },
 "nbformat": 4,
 "nbformat_minor": 2
}
