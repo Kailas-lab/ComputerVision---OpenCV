{
 "cells": [
  {
   "cell_type": "markdown",
   "metadata": {},
   "source": [
    "Read the image.\n",
    "Convert to grayscale.\n",
    "Apply Canny edge detection.\n",
    "Find contours using cv.findContours().\n",
    "Draw the contours on a blank image in green color"
   ]
  },
  {
   "cell_type": "code",
   "execution_count": 3,
   "metadata": {},
   "outputs": [],
   "source": [
    "import cv2 as cv\n",
    "import numpy as np\n",
    "\n",
    "# Load the image\n",
    "img = cv.imread(r'D:\\kailas\\open cv\\ComputerVision---OpenCV\\images\\cats.jpg')  # Replace with your image path\n",
    "\n",
    "\n",
    "# Convert the image to grayscale\n",
    "gray = cv.cvtColor(img, cv.COLOR_BGR2GRAY)\n",
    "\n",
    "# Apply Canny edge detection\n",
    "edges = cv.Canny(img,125,175)\n",
    "\n",
    "\n",
    "# Find contours\n",
    "contours, hierarchy = cv.findContours(edges, cv.RETR_EXTERNAL, cv.CHAIN_APPROX_SIMPLE)\n",
    "\n",
    "# Create a blank image to draw the contours on\n",
    "blank = np.zeros_like(img)\n",
    "\n",
    "# Draw the contours on the blank image with green color\n",
    "cv.drawContours(blank, contours, -1, (0, 255, 0), 1)  # (0, 255, 0) is green color\n",
    "\n",
    "\n",
    "cv.imshow('Original Image', img)\n",
    "cv.imshow('Canny Edges', edges)\n",
    "cv.imshow('Contours on Blank Image', blank)\n",
    "\n",
    "\n",
    "cv.waitKey(0)\n",
    "cv.destroyAllWindows()\n"
   ]
  }
 ],
 "metadata": {
  "kernelspec": {
   "display_name": "Python 3",
   "language": "python",
   "name": "python3"
  },
  "language_info": {
   "codemirror_mode": {
    "name": "ipython",
    "version": 3
   },
   "file_extension": ".py",
   "mimetype": "text/x-python",
   "name": "python",
   "nbconvert_exporter": "python",
   "pygments_lexer": "ipython3",
   "version": "3.12.5"
  }
 },
 "nbformat": 4,
 "nbformat_minor": 2
}
