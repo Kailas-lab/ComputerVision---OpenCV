{
 "cells": [
  {
   "cell_type": "markdown",
   "metadata": {},
   "source": [
    "**Image transformations**\n",
    "\n",
    "width(-) - left\n",
    "width(+) - right\n",
    "height(-) - up\n",
    "height(+) - down\n"
   ]
  },
  {
   "cell_type": "code",
   "execution_count": 6,
   "metadata": {},
   "outputs": [],
   "source": [
    "import cv2 as cv\n",
    "import numpy as np\n",
    "\n",
    "# Define the translation function\n",
    "def translate_image(image, x, y):\n",
    "    \"\"\"\n",
    "    Translate the input image by x and y.\n",
    "\n",
    "    Parameters:\n",
    "    - image: The input image to be translated.\n",
    "    - x: Number of pixels to translate along the x-axis (horizontal).\n",
    "    - y: Number of pixels to translate along the y-axis (vertical).\n",
    "\n",
    "    Returns:\n",
    "    - Translated image.\n",
    "    \"\"\"\n",
    "    # Get the image dimensions\n",
    "    height, width = image.shape[:2]\n",
    "    \n",
    "    # Define the translation matrix\n",
    "    translation_matrix = np.float32([[1, 0, x], [0, 1, y]])\n",
    "    \n",
    "    # Apply the translation to the image\n",
    "    translated_img = cv.warpAffine(image, translation_matrix, (width, height))\n",
    "    \n",
    "    return translated_img\n",
    "\n",
    "# Load the image (you can replace this with your own image path)\n",
    "img = cv.imread(r'D:\\kailas\\open cv\\images\\group 1.jpg')  # Use your binary image or any other image\n",
    "\n",
    "# Call the translate function (e.g., translate 100 pixels right and 50 pixels down)\n",
    "translated_img = translate_image(img, 100, 50)\n",
    "\n",
    "# Display the translated image\n",
    "cv.imshow('Translated Image', translated_img)\n",
    "\n",
    "# Wait for a key press and close the window\n",
    "cv.waitKey(0)\n",
    "cv.destroyAllWindows()\n"
   ]
  },
  {
   "cell_type": "markdown",
   "metadata": {},
   "source": [
    "**Rotation**"
   ]
  },
  {
   "cell_type": "code",
   "execution_count": 7,
   "metadata": {},
   "outputs": [
    {
     "data": {
      "text/plain": [
       "-1"
      ]
     },
     "execution_count": 7,
     "metadata": {},
     "output_type": "execute_result"
    }
   ],
   "source": [
    "def rotate(img,angle, rotPoint=None):\n",
    "    # Get the image dimensions\n",
    "    (height, width)=img.shape[:2]\n",
    "\n",
    "     # If no rotation point is specified, use the center of the image\n",
    "    if rotPoint is None:\n",
    "        rotPoint=(width//2, height//2)\n",
    "    \n",
    "    # Get the rotation matrix\n",
    "    rotmat= cv.getRotationMatrix2D(rotPoint,angle,1.0)\n",
    "    dimensions=(width,height)\n",
    "\n",
    "     # Apply the rotation to the image    \n",
    "    return cv.warpAffine(img,rotmat,dimensions)\n",
    "\n",
    "\n",
    " # Rotate the image by 45 degree\n",
    "rotimg=rotate(img,45)\n",
    "#rotimg=rotate(img,-45)\n",
    "cv.imshow('rotated Image', rotimg)\n",
    "cv.waitKey(0)"
   ]
  },
  {
   "cell_type": "markdown",
   "metadata": {},
   "source": [
    "**Fliping**\n",
    "\n",
    "1-horizontal\n",
    "0-vertical"
   ]
  },
  {
   "cell_type": "code",
   "execution_count": 9,
   "metadata": {},
   "outputs": [
    {
     "data": {
      "text/plain": [
       "-1"
      ]
     },
     "execution_count": 9,
     "metadata": {},
     "output_type": "execute_result"
    }
   ],
   "source": [
    "flip=cv.flip(img,0)\n",
    "cv.imshow(\"flip\",flip)\n",
    "cv.waitKey(0)"
   ]
  }
 ],
 "metadata": {
  "kernelspec": {
   "display_name": "Python 3",
   "language": "python",
   "name": "python3"
  },
  "language_info": {
   "codemirror_mode": {
    "name": "ipython",
    "version": 3
   },
   "file_extension": ".py",
   "mimetype": "text/x-python",
   "name": "python",
   "nbconvert_exporter": "python",
   "pygments_lexer": "ipython3",
   "version": "3.12.5"
  }
 },
 "nbformat": 4,
 "nbformat_minor": 2
}
