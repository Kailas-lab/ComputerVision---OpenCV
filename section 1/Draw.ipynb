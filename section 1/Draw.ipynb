{
 "cells": [
  {
   "cell_type": "markdown",
   "metadata": {},
   "source": [
    "**Draw and write images**"
   ]
  },
  {
   "cell_type": "code",
   "execution_count": 17,
   "metadata": {},
   "outputs": [],
   "source": [
    "import cv2 as cv\n",
    "import numpy as np\n",
    "\n",
    "#uint6 is datatype of the img\n",
    "blank=np.zeros((500,500,3), dtype='uint8')\n",
    "cv.imshow('blank',blank)\n",
    "\n",
    "img = cv.imread(r'D:\\kailas\\open cv\\images\\cat.jpg')\n",
    "cv.imshow('cat',img)\n",
    "\n",
    "cv.waitKey(0)\n",
    "cv.destroyAllWindows()"
   ]
  },
  {
   "cell_type": "code",
   "execution_count": null,
   "metadata": {},
   "outputs": [],
   "source": [
    "\n",
    "#blank img with certain color\n",
    "#[:]=select all pixels\n",
    "blank[:]=77,39,255\n",
    "#blank[200:300 , 300:400]=77,39,255\n",
    "cv.imshow('Color',blank)\n",
    "\n",
    "cv.waitKey(0)\n",
    "cv.destroyAllWindows()"
   ]
  },
  {
   "cell_type": "code",
   "execution_count": null,
   "metadata": {},
   "outputs": [],
   "source": [
    "\n",
    "# Draw a rectangle on the blank image\n",
    "# Top-left corner: (0, 0), Bottom-right corner: (250, 250)\n",
    "# Color: (77, 39, 255) in BGR (blue, green, red)\n",
    "# Thickness: 2 pixels\n",
    "cv.rectangle(blank, (0, 0), (250, 250), (255, 255, 255), thickness=cv.FILLED)\n",
    "# Display the image with the rectangle\n",
    "cv.imshow('Rectangle', blank)\n",
    "\n",
    "cv.waitKey(0)\n",
    "cv.destroyAllWindows()\n"
   ]
  },
  {
   "cell_type": "code",
   "execution_count": 18,
   "metadata": {},
   "outputs": [],
   "source": [
    "#Draw the circle\n",
    "#radius = 40\n",
    "#centroid = 250,250\n",
    "cv.circle(blank, (250, 250), 40, (255, 255, 255), thickness=2)\n",
    "cv.imshow('circle', blank)\n",
    "\n",
    "cv.waitKey(0)\n",
    "cv.destroyAllWindows()"
   ]
  },
  {
   "cell_type": "code",
   "execution_count": 20,
   "metadata": {},
   "outputs": [],
   "source": [
    "#Draw the line\n",
    "\n",
    "cv.line(blank, (0, 0), (250, 250), (0, 0, 0), thickness=2)\n",
    "cv.imshow('line', blank)\n",
    "\n",
    "cv.waitKey(0)\n",
    "cv.destroyAllWindows()"
   ]
  },
  {
   "cell_type": "code",
   "execution_count": 21,
   "metadata": {},
   "outputs": [],
   "source": [
    "#write the text\n",
    "cv.putText(blank, \"hello\", (225, 225), cv.FONT_HERSHEY_TRIPLEX, fontScale=1.0, color=(56, 88, 45), thickness=2)\n",
    "cv.imshow('txt', blank)\n",
    "\n",
    "cv.waitKey(0)\n",
    "cv.destroyAllWindows()"
   ]
  }
 ],
 "metadata": {
  "kernelspec": {
   "display_name": "Python 3",
   "language": "python",
   "name": "python3"
  },
  "language_info": {
   "codemirror_mode": {
    "name": "ipython",
    "version": 3
   },
   "file_extension": ".py",
   "mimetype": "text/x-python",
   "name": "python",
   "nbconvert_exporter": "python",
   "pygments_lexer": "ipython3",
   "version": "3.12.5"
  }
 },
 "nbformat": 4,
 "nbformat_minor": 2
}
